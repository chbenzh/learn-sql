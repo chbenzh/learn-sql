廖雪峰SQL教程，https://www.liaoxuefeng.com/wiki/1177760294764384
一、SQL概述
应用程序把用户数据保存于关系数据库中，SQL（Structured Query Language，结构化查询语言）用于访问和操作关系数据库，关键字不区分大小写，表名和列名有的区分大小写、有的不区分大小写
建议：关键字均用大写，表名、列名均用小写
SQL操作关系数据库的能力分级：
1. DDL（Data Definition Language）允许用户定义数据，也就是创建表、删除表、修改表结构，DDL通常由关系数据库管理员执行
2. DML（Data Manipulation Language）允许用户添加、删除、更新数据
3. DQL（Data Query Language）允许用户查询数据
主流关系数据库分类：
1. 商用关系数据库：Oracle，SQL Server，DB2等
2. 开源关系数据库：MySQL，PostgreSQL等
3. 桌面关系数据库：微软Access等，适合桌面应用程序使用
4. 嵌入式关系数据库：Sqlite等，适合手机应用和桌面程序
标准SQL可以支持所有关系数据库，大部分关系数据库都在标准SQL上做了扩展——扩展SQL，扩展SQL仅支持特定关系数据库
关系数据库建立在关系模型上：按照二维表格的结构组织、存储和管理数据，任何数据都可以通过行号+列号唯一确定，就像Excel表但与Excel表不同（关系数据库的表与表之间需要建立“一对多”、“多对一”和“一对一”的关系）
关系数据库支持的数据类型：
名称，类型，说明
1. INT，整型，4字节整数类型，范围约+/-21亿
2. BIGINT，长整型，8字节整数类型，范围约+/-922亿亿
3. REAL，浮点型，4字节浮点数，范围约+/-10^38
4. DOUBLE，浮点型，8字节浮点数，范围约+/-10^308
5. DECIMAL（M，N），高精度小数，一共M位，其中小数N位，通常用于财务计算
6. CHAR（N），定长字符串，存储指定长度的字符串，例如，CHAR（100）总是存储100个字符的字符串
7. VARCHAR（N），变长字符串，存储可变长度的字符串，例如，VARCHAR（100）可以存储0～100个字符的字符串
8. BOOLEAN，布尔类型，存储True或者False
9. DATE，日期类型，存储日期，例如，2019-08-02
10. TIME，时间类型，存储时间，例如，21:18:00
11. DATETIME，日期和时间类型，存储日期+时间，例如，2019-08-02 21:18:00
二、安装MySQL
MySQL官方版本：
1. Community Edition：社区开源版本，免费
2. Standard Edition：标准版
3. Enterprise：企业版
4. Cluster：集群版
-- 以上版本的功能（监控、集群等管理功能）和价格依次递增，学习、开发、测试的时候选择Community Edition版本，部署的时候选择付费的高级版本或者云服务商提供的兼容版本（Amazon改进的Aurora版本专门提供给在AWS托管MySQL的用户，Alibaba改进的PolarDB版本专门提供给在阿里云托管MySQL的用户），MySQL本身只是SQL接口，MySQL内部包含了多种关系数据库引擎、建议采用InnoDB关系数据库引擎
下载安装MySQL Community Server，https://dev.mysql.com/downloads/mysql/
-- 运行MySQL
$ mysql -u root -p #进入MySQL Client、连接本机MySQL Server，MySQL Client的可执行程序是mysql，MySQL Server的可执行程序是mysqld，在MySQL Client中输入的SQL语句通过TCP连接发送到MySQL Server，如果发送到本机MySQL Server那么地址就是127.0.0.1:3306（默认端口号是3306）
-- 也可以只安装MySQL Client，然后连接到远程MySQL Server，假设远程MySQL Server的IP地址是10.0.1.99，那么就使用-h指定IP或域名：mysql -h 10.0.1.99 -u root -p
-bash: mysql: command not found #需要在环境变量path中配置mysql运行位置才能在命令提示符下操作mysql
$ cd ~
$ touch .bash_profile
$ open -e .bash_profile #用文本编辑打开.bash_profile（若以前没有配置过环境变量本文件会是空文件）
#输入export PATH=/usr/local/bin:/usr/bin:/bin:/usr/sbin:/sbin export PATH=${PATH}:/usr/local/mysql/bin后保存
$ source .bash_profile
$ mysql -u root -p
-- 提示符变为mysql>，进入MySQL Client、连接本机MySQL Server，输入exit断开与MySQL Server的连接、退出MySQL Client，但是MySQL Server仍在后台运行，Mac-系统偏好设置 > MySQL > Stop MySQL Server
-- Commands end with ; or \g. 输入;结束命令行
-- Type 'help;' or '\h' for help. Type '\c' to clear the current input statement. 输入\c清除当前输入语句
三、关系模型
关系模型本质是若干存储数据的二维表格，表的每一行称为Record（记录，记录是逻辑意义上的数据）、每一列称为Column（字段），同一表的每一行记录都拥有相同的若干字段，字段定义了数据类型、是否允许为NULL（NULL表示字段数据不存在，一个整型字段如果为NULL不表示其值为0，一个字符串型字段为NULL不表示其值为空串’'）
建议：字段避免允许为NULL
关系数据库的表与表之间需要建立“一对一”、“一对多”、“多对一”和“多对多”的关系，例如，班级表和班主任表的关系是“一对一”，班级表和学生表的关系是“一对多”，学生表和班级表的关系是“多对一”，班级表和老师表的关系是“多对多”（通过两个“一对多”关系实现，即通过一个中间表关联两个“一对多”关系）
在关系数据库中，关系通过主键和外键来维护
-- 主键
关系数据库的任意表中任意两条记录的主键（某个字段，唯一标识记录）不能重复，即任意两条记录的主键（某个字段）必须不同、其他字段可以相同，选取主键的基本原则：
1. 不使用任何业务相关的字段作为主键，例如身份证号码、手机号码、邮箱地址（均属于业务场景、可能升位或者变更）
2. 使用完全业务无关的字段作为主键，一般命名为id，例如自增整数类型（关系数据库会在插入数据时自动为每一条记录分配一个自增整数，BIGINT NOT NULL AUTO_INCREMENT）、全局唯一GUID类型（GUID算法通过网卡地址、时间戳和随机数保证任意计算机在任意时间生成的字符串都是不同的）
联合主键（不常用），即将两个或多个字段都设置为主键（多个字段，唯一标识记录），只要不是所有主键都相同即可。
-- 外键
表1-students通过字段1-class_id（外键）与表2-classes关联，通过外键约束可以保证关系数据库无法插入无效数据，例如，如果classes表不存在id=99的记录、students表就无法插入class_id=99的记录
-- 外键约束会降低关系数据库的性能，大部分应用程序为了追求速度并不设置外键约束
-- 定义外键约束
mysql> ALTER TABLE students
mysql> ADD CONSTRAINT fk_class_id -- 外键约束的名称可以任意
mysql> FOREIGN KEY (class_id)
mysql> REFERENCES classes(id);
-- 删除字段
mysql> ALTER TABLE students
mysql> DROP COLUMN class_id;
-- 索引
索引是关系数据库中对某一列或多个列进行预排序的数据结构，关系数据库会自动对主键创建索引，通过使用索引可以不必扫描整个表，而是直接定位到符合条件的记录，优点是提高查询效率，缺点是在插入、更新和删除记录时需要同时修改索引
-- 创建一列索引
mysql> ALTER TABLE students
mysql> ADD INDEX idx_score (score); #对score列创建索引
-- 创建多列索引
mysql> ALTER TABLE students
mysql> ADD INDEX idx_name_score (name, score); #对name列和score列创建索引
-- 创建唯一索引
mysql> ALTER TABLE students
mysql> ADD UNIQUE INDEX idx_uni_identity (identity); #对identity列（具有唯一性）创建唯一索引
-- 创建唯一约束
mysql> ALTER TABLE students
mysql> ADD CONSTRAINT uni_identity UNIQUE (identity); #对identity列（具有唯一性）创建唯一约束而不创建索引
四、查询数据
4.1 基本查询
$ mysql -u root -p -- 连接MySQL服务器
mysql> CREATE DATABASE IF NOT EXISTS test; -- 如果test数据库不存在，就创建test数据库
mysql> USE test; -- 切换到test数据库
-- 删除classes表和students表（如果存在）
mysql> DROP TABLE IF EXISTS classes;
mysql> DROP TABLE IF EXISTS students;
-- 创建classes表
mysql> CREATE TABLE classes (
    id BIGINT NOT NULL AUTO_INCREMENT,
    name VARCHAR(100) NOT NULL,
    PRIMARY KEY (id)
) ENGINE=InnoDB DEFAULT CHARSET=utf8;
-- 创建students表
mysql> CREATE TABLE students (
    id BIGINT NOT NULL AUTO_INCREMENT,
    class_id BIGINT NOT NULL,
    name VARCHAR(100) NOT NULL,
    gender VARCHAR(1) NOT NULL,
    score INT NOT NULL,
    PRIMARY KEY (id)
) ENGINE = InnoDB DEFAULT CHARSET = utf8;
-- 插入classes记录
mysql> INSERT INTO classes (id, name) VALUES (1, '一班');
mysql> INSERT INTO classes (id, name) VALUES (2, '二班');
-- 插入students记录
mysql> INSERT INTO students (id, class_id, name, gender, score) VALUES (1, 1, '小明', 'M', 90);
mysql> INSERT INTO students (id, class_id, name, gender, score) VALUES (2, 1, '小红', 'F', 95);
mysql> SELECT  ‘ok’ as ‘result:’;
-- result:
-- ok
$ mysql -u root -p < init-test-data.sql -- 在命令行运行SQL脚本：创建test数据库，并在test数据库下创建students表和classes表，以及必要的初始化数据，查询数据
$ mysql -u root -p -- 连接MySQL服务器
mysql> USE test; -- 切换到test数据库
mysql> SELECT * FROM students; -- 查询students表的所有记录，*表示所有字段，FROM设定将要从哪个表查询，查询结果是一个二维表格
mysql> SELECT 1+2;
-- 1+2
-- 3
4.2 条件查询
mysql> SELECT * FROM students WHERE score >= 80; -- WHERE设定查询条件
mysql> SELECT * FROM students WHERE score >= 80 AND gender = 'M'; -- <条件1> AND <条件2>
mysql> SELECT * FROM students WHERE score >= 80 OR gender = 'M'; -- <条件1> OR <条件2>
mysql> SELECT * FROM students WHERE NOT class_id = 2; -- NOT <条件2>
mysql> SELECT * FROM students WHERE (score < 80 OR score > 90) AND gender = 'M'; -- (<条件1> OR <条件2>) AND <条件3>，要组合三个以上的条件需要用小括号()改变优先级，优先级()>NOT>AND>OR
条件表达式：
条件，举例1，举例2，说明
1. 相等，score = 80，name = 'abc'，字符串要用单引号括起来
2. 大于，score > 80，name > 'abc'，字符串比较根据ASCII码，中文字符比较根据数据库设置
3. 大于或相等，score >= 80，name >= 'abc'
4. 小于，score < 80，name < ‘abc'
5. 小于或相等，score <= 80，name <= 'abc'
6. 不相等，score <> 80，name <> 'abc'
7. 相似，name LIKE 'ab%'，name LIKE '%bc%'，%表示任意字符，例如'ab%'将匹配'ab'、'abc'、'abcd'
4.3 投影查询
mysql> SELECT id, score, name FROM students; -- 投影查询，查询结果仅包括id、score、name这三列
mysql> SELECT id, score points, name FROM students; -- 投影查询，查询结果仅包括id、score（重命名为points）、name这三列
mysql> SELECT id, score points, name FROM students WHERE gender = 'M'; -- 投影查询+条件查询，查询结果仅包括id、score（重命名为points）、name这三列
4.4 排序
-- 查询结果默认按照主键（id）排序、从小到大（ASC）排序
mysql> SELECT id, name, gender, score FROM students ORDER BY score; -- 查询结果按照score从低到高排序
mysql> SELECT id, name, gender, score FROM students ORDER BY score DESC; -- 查询结果按照score从高到低排序
mysql> SELECT id, name, gender, score FROM students ORDER BY score DESC, gender; -- 查询结果按照score从高到低排序，如果有相同score再按照gender从低到高排序
mysql> SELECT id, name, gender, score FROM students WHERE class_id = 1 ORDER BY score DESC; -- 查询结果按照score从高到低排序，如果有条件查询那么ORDER BY放到WHERE后面
4.5 分页查询
mysql> SELECT id, name, gender, score FROM students ORDER BY score DESC LIMIT 3 OFFSET 0; -- 查询结果页最多包括3（可变）条记录、从0（可变）号记录开始，关系数据库的二维表格的索引从0开始
4.6 聚合查询
mysql> SELECT COUNT(*) FROM students; -- 查询所有字段的行数，聚合查询结果是一个二维表格、只有一行一列、列名是COUNT(*)
mysql> SELECT COUNT(*) num FROM students; -- 设置COUNT(*)的别名为num
mysql> SELECT COUNT(*) boys FROM students WHERE gender = 'M'; -- 聚合查询+条件查询
mysql> SELECT AVG(score) average FROM students WHERE gender = 'M';
mysql> SELECT CEILING(COUNT(*)/3) FROM students; -- 聚合查询获得总页数
mysql> SELECT COUNT(*) num FROM students GROUP BY class_id; -- 按class_id分组聚合
mysql> SELECT class_id, COUNT(*) num FROM students GROUP BY class_id;
mysql> SELECT class_id, gender, COUNT(*) num FROM students GROUP BY class_id, gender; -- 按class_id和gender分组聚合
mysql> SELECT class_id, AVG(score) average FROM students GROUP BY class_id; -- 聚合查询每个班级的平均分
mysql> SELECT class_id, gender, AVG(score) average FROM students GROUP BY class_id, gender; -- 聚合查询每个班级男生和女生的平均分
-- SQL聚合函数：
函数，说明
1. COUNT，计算某一列的行数，如果聚合查询+条件查询没有匹配到任何行返回0
2. SUM，计算某一列的合计值，该列必须为数值类型，如果聚合查询+条件查询没有匹配到任何行返回NULL
3. AVG，计算某一列的平均值，该列必须为数值类型，如果聚合查询+条件查询没有匹配到任何行返回NULL
4. MAX，计算某一列的最大值，如果是字符类型会返回排序最后的字符，如果聚合查询+条件查询没有匹配到任何行返回NULL
5. MIN，计算某一列的最小值，如果是字符类型会返回排序最前的字符，如果聚合查询+条件查询没有匹配到任何行返回NULL
4.7 多表查询
mysql> SELECT * FROM students, classes; -- 同时从students表和classes表的“乘积”查询数据，students表的每一行与classes表的每一行都两两拼在一起返回，查询结果的列数是students表和classes表的列数之和，行数是students表和classes表的行数之积
mysql> SELECT students.id sid, students.name, students.gender, students.score, classes.id cid, classes.name cname FROM students, classes; -- 设置列的别名
mysql> SELECT s.id sid, s.name, s.gender, s.score, c.id cid, c.name cname FROM students s, classes c; -- 设置表的别名
mysql> SELECT s.id sid, s.name, s.gender, s.score, c.id cid, c.name cname FROM students s, classes c WHERE s.gender = 'M' AND c.id = 1; -- 多表查询+条件查询
4.8 连接查询
mysql> SELECT s.id, s.name, s.class_id, s.gender, s.score FROM students s;
mysql> SELECT s.id, s.name, s.class_id, c.name class_name, s.gender, s.score FROM students s INNER JOIN classes c ON s.class_id = c.id; -- 内连接，返回同时存在于两张表的行，FROM <表1>确定主表，INNER JOIN <表2>确定需要连接的表，ON <条件>确定连接条件，s.class_id = c.id表示students表的class_id列与classes表的id列相同的行需要连接，可以加上条件查询和排序
mysql> SELECT s.id, s.name, s.class_id, c.name class_name, s.gender, s.score FROM students s RIGHT OUTER JOIN classes c ON s.class_id = c.id; -- 外连接，返回右表都存在的行（如果某一行仅在右表存在，那么结果集以NULL填充剩下的字段）
mysql> INSERT INTO students (class_id, name, gender, score) VALUES (5, '新生', 'M', 88); -- 插入students记录
mysql> SELECT s.id, s.name, s.class_id, c.name class_name, s.gender, s.score FROM students s LEFT OUTER JOIN classes c ON s.class_id = c.id; -- 外连接，返回左表都存在的行（如果某一行仅在左表存在，那么结果集以NULL填充剩下的字段）
mysql> SELECT s.id, s.name, s.class_id, c.name class_name, s.gender, s.score FROM students s LEFT JOIN classes c ON s.class_id = c.id UNION SELECT s.id, s.name, s.class_id, c.name class_name, s.gender, s.score FROM students s RIGHT JOIN classes c ON s.class_id = c.id; -- 外连接，返回左右两表存在的所有行，结果集自动以NULL填充剩下的字段，MySQL不支持FULL OUTER JOIN
五、修改数据
SQL修改数据语句：
1. INSERT，插入新记录
2. UPDATE，更新已有记录
3. DELETE，删除已有记录
5.1 INSERT
mysql> INSERT INTO students (class_id, name, gender, score) VALUES (2, '小牛', 'M', 80); -- 在students表插入一条新记录，id字段是自增主键（可以由关系数据库自己推算出）所以可以不列出
mysql> INSERT INTO students (class_id, name, gender, score) VALUES (2, '大宝', 'M', 87), (2, '二宝', 'M', 81); -- 在students表一次插入多条新记录
5.2 UPDATE
mysql> UPDATE students SET name = '大牛', score = 66 WHERE id = 1; -- 更新students表id=1的记录的name和score这两个字段
mysql> UPDATE students SET name = '大牛', score = 66 WHERE id >= 5 AND id <= 7; -- 一次更新多条记录
mysql> UPDATE students SET score = score + 10 WHERE score < 80; -- 给当前行的score字段的值加10分
mysql> UPDATE students SET score = 60; -- 特别小心！没有WHERE条件查询、整个表的所有记录都会被更新，建议先用WHERE条件查询测试是否筛选出了期望的记录集、然后再用UPDATE更新
5.3 DELETE
mysql> DELETE FROM students WHERE id = 1; -- 删除students表中id=1的记录
mysql> DELETE FROM students WHERE id >= 5 AND id <= 7; -- 一次删除students表中的多条记录
mysql> DELETE FROM students; -- 特别小心！没有WHERE条件查询、整个表的所有记录都会被删除，建议先用WHERE条件查询测试是否筛选出了期望的记录集、然后再用DELETE删除
六、管理MySQL
mysql> SHOW DATABASES; -- 列出所有数据库，其中，information_schema、mysql、performance_shcema和sys是系统库，不要去改动它们，其他事用户创建的数据库
mysql> CREATE DATABASE test; -- 创建一个新数据库
mysql> DROP DATABASE test; -- 删除一个数据库
mysql> USE test; -- 对一个数据库进行操作时，要首先将其切换为当前数据库
mysql> SHOW TABLES; -- 列出当前数据库的所有表
mysql> DESC students; -- 查看一个表的结构
mysql> SHOW CREATE TABLE students; -- 查看创建表的SQL语句
-- 创建classes表
mysql> CREATE TABLE classes (
    id BIGINT NOT NULL AUTO_INCREMENT,
    name VARCHAR(100) NOT NULL,
    PRIMARY KEY (id)
) ENGINE=InnoDB DEFAULT CHARSET=utf8;
-- 插入classes记录
mysql> INSERT INTO classes (id, name) VALUES (1, '一班');
mysql> INSERT INTO classes (id, name) VALUES (2, '二班');
mysql> DROP TABLE students; -- 删除表
mysql> ALTER TABLE students ADD COLUMN birth VARCHAR(10) NOT NULL; -- 给students表新增一列birth
mysql> ALTER TABLE students CHANGE COLUMN birth birthday VARCHAR(20) NOT NULL; -- 修改birth列，把列名改为birthday、类型改为VARCHAR(20)
mysql> ALTER TABLE students DROP COLUMN birthday; -- 删除列birthday
mysql> EXIT -- 断开与MySQL SERVER的连接、退出MySQL Client
-- 插入或替换
mysql> REPLACE INTO students (id, class_id, name, gender, score) VALUES (1, 1, ‘小明’, ‘M’, 99); -- 如果id=1的记录不存在，REPLACE语句将插入新记录，否则当前id=1的记录将被删除然后再插入新记录
-- 插入或更新
mysql> INSERT INTO students (id, class_id, name, gender, score) VALUES (1, 1, '小明', 'F', 99) ON DUPLICATE KEY UPDATE name = '小明', gender = 'F', score = 99; -- 如果id=1的记录不存在，INSERT语句将插入新记录，否则当前id=1的记录将被更新、更新的字段由UPDATE指定
-- 插入或忽略
mysql> INSERT IGNORE INTO students (id, class_id, name, gender, score) VALUES (1, 1, '小明', 'F', 99); -- 如果id=1的记录不存在，INSERT语句将插入新记录，否则不执行任何操作
-- 快照
mysql> CREATE TABLE students_of_class1 SELECT * FROM students WHERE class_id = 1; -- 对students表中class_id=1的记录进行快照，并存储为新表students_of_class1
-- 写入查询结果集
mysql> CREATE TABLE statistics (
    id BIGINT NOT NULL AUTO_INCREMENT,
    class_id BIGINT NOT NULL,
    average DOUBLE NOT NULL,
    PRIMARY KEY (id)
); -- 创建statistics表，记录各班平均成绩
mysql> INSERT INTO statistics (class_id, average) SELECT class_id, AVG(score) FROM students GROUP BY class_id; -- 需要确保INSERT语句的列和SELECT语句的列一一对应
七、事务
关系数据库事务，指把多条SQL语句作为一个整体进行操作，确保该事务范围内的所有操作全部成功或者全部失败
隐式事务，指关系数据库自动将单条SQL语句作为一个事务进行操作
显式事务，使用BEGIN开启，使用COMMIT提交
mysql> BEGIN;
mysql> UPDATE accounts SET balance = balance - 100 WHERE id = 1;
mysql> UPDATE accounts SET balance = balance +100 WHERE id = 2;
mysql> COMMIT; -- 如果COMMIT语句执行失败，整个事务也会失败
mysql> BEGIN;
mysql> UPDATE accounts SET balance = balance - 100 WHERE id = 1;
mysql> UPDATE accounts SET balance = balance +100 WHERE id = 2;
mysql> ROLLBACK; -- ROLLBACK回滚事务，主动让整个事务失败
对于两个并发执行的事务，如果涉及到操作同一条记录的时候，可能会带来数据的不一致性，包括脏读、不可重复读、幻读
SQL标准定义了4种隔离级别（InnoDB关系数据库引擎默认的隔离级别是Repeatable Read），分别对应可能出现的数据不一致：
Isolation Level，脏读（Dirty Read），不可重复读（Non Repeatable Read），幻读（Phantom Read）
1. Read Uncommitted，Yes，Yes，Yes
2. Read Commited，-，Yes，Yes
3. Repeatable Read，-，-，Yes
4. Serializable，-，-，-
7.1 Read Uncommitted
在Read Uncommitted（隔离级别最低）隔离级别下，一个事务会读到另一个事务更新后但未提交的数据，如果另一个事务回滚，那么当前事务会读到的数据就是脏数据，即脏读（Dirty Read）：
时刻，事务A，事务B
1. 1，SET TRANSACTION ISOLATION LEVEL READ UNCOMMITTED;，SET TRANSACTION ISOLATION LEVEL READ UNCOMMITTED;
2. 2，BEGIN;，BEGIN;
3. 3，SELECT * FROM students WHERE id = 1;， 
4. 4， ，UPDATE students SET name = 'Bob' WHERE id = 1;
5. 5，ROLLBACK;， 
6. 6， ，SELECT * FROM students WHERE id = 1;
7. 7， ，COMMIT;
在Read Committed隔离级别下，一个事务可能会遇到不可重复读（Non Repeatable Read）的问题，指在一个事务內多次读同一数据，如果中间时刻另一个事务恰好修改了这个数据，那么，在第一个事务中两次读取的数据就可能不一致：
时刻，事务A，事务B
1. 1，SET TRANSACTION ISOLATION LEVEL READ COMMITTED;，SET TRANSACTION ISOLATION LEVEL READ COMMITTED;
2. 2，BEGIN;，BEGIN;
3. 3， ，SELECT * FROM students WHERE id = 1;
4. 4，UPDATE students SET name = 'Bob' WHERE id = 1;， 
5. 5，COMMIT;， 
6. 6， ，SELECT * FROM students WHERE id = 1;
7. 7， ，COMMIT;
在Repeatable Read隔离级别下，一个事务可能会遇到幻读（Phantom Read）的问题，指在一个事务中，第一次查询某条记录，发现没有，当试图更新这条不存在的记录时竟然能成功，再次读取同一条记录，记录出现：
1. 1，SET TRANSACTION ISOLATION LEVEL REPEATABLE READ;，SET TRANSACTION ISOLATION LEVEL REPEATABLE READ;
2. 2，BEGIN;，BEGIN;
3. 3， ，SELECT * FROM students WHERE id = 99;
4. 4，INSERT INTO students (id, name) VALUES (99, 'Bob');， 
5. 5，COMMIT;， 
6. 6， ，SELECT * FROM students WHERE id = 99;
7. 7， ，UPDATE students SET name = 'Alice' WHERE id = 99;
8. 8， ，SELECT * FROM students WHERE id = 99;
9. 9， ，COMMIT;
在Serializable（隔离级别最高）隔离级别下，所有事务按照次序依次执行，不会出现脏读、不可重复读、幻读，串行执行导致效率下降